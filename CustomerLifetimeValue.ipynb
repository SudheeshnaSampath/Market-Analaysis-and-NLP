{
 "cells": [
  {
   "cell_type": "markdown",
   "id": "f9ff78cf",
   "metadata": {},
   "source": [
    "Homework 1\n",
    "\n",
    "Name: Sudheeshna Sampath\n",
    "\n",
    "Andrew ID: sudheess"
   ]
  },
  {
   "cell_type": "code",
   "execution_count": 1,
   "id": "61b36f35",
   "metadata": {},
   "outputs": [],
   "source": [
    "#load necessary packages\n",
    "import pandas as pd\n",
    "import numpy as np\n",
    "import matplotlib.pyplot as plt\n",
    "import statistics as stat\n",
    "from matplotlib import dates as mpl_dates\n",
    "import matplotlib as mpl\n",
    "from matplotlib.ticker import LinearLocator, FuncFormatter"
   ]
  },
  {
   "cell_type": "code",
   "execution_count": 2,
   "id": "e13b28f6",
   "metadata": {},
   "outputs": [],
   "source": [
    "#read input file\n",
    "df = pd.read_csv(\"C:\\\\Users\\\\sudhe\\\\Desktop\\\\Spring '22\\\\DSPM\\\\HW1\\\\HW1 clv_transactions.csv\")"
   ]
  },
  {
   "cell_type": "markdown",
   "id": "59439d05",
   "metadata": {},
   "source": [
    "STEP 1"
   ]
  },
  {
   "cell_type": "code",
   "execution_count": 3,
   "id": "949f2411",
   "metadata": {},
   "outputs": [
    {
     "name": "stdout",
     "output_type": "stream",
     "text": [
      "Column TransactionID has missing values: [False]\n",
      "Column TransactionDate has missing values: [False]\n",
      "Column CustomerID has missing values: [False]\n",
      "Column Amount has missing values: [False]\n"
     ]
    }
   ],
   "source": [
    "#Check if any column has missing values\n",
    "print(\"Column TransactionID has missing values:\", df['TransactionID'].isna().unique())\n",
    "print(\"Column TransactionDate has missing values:\", df['TransactionDate'].isna().unique())\n",
    "print(\"Column CustomerID has missing values:\",df['CustomerID'].isna().unique())\n",
    "print(\"Column Amount has missing values:\", df['Amount'].isna().unique())"
   ]
  },
  {
   "cell_type": "markdown",
   "id": "6ba054f1",
   "metadata": {},
   "source": [
    "The dataset has no missing values"
   ]
  },
  {
   "cell_type": "code",
   "execution_count": 4,
   "id": "d3c6759c",
   "metadata": {},
   "outputs": [
    {
     "name": "stdout",
     "output_type": "stream",
     "text": [
      "Latest Transaction Date: 9/9/2015\n",
      "Earliest Transaction date: 1/1/2011\n"
     ]
    }
   ],
   "source": [
    "#Print earliest and latest transaction date\n",
    "print(\"Latest Transaction Date:\",df['TransactionDate'].max())\n",
    "print(\"Earliest Transaction date:\",df['TransactionDate'].min())"
   ]
  },
  {
   "cell_type": "code",
   "execution_count": 5,
   "id": "d4eb7303",
   "metadata": {},
   "outputs": [
    {
     "name": "stdout",
     "output_type": "stream",
     "text": [
      "Unique no.of customers: 1000\n"
     ]
    }
   ],
   "source": [
    "#Print Unique #Customers\n",
    "print(\"Unique no.of customers:\",len(df['CustomerID'].unique()))"
   ]
  },
  {
   "cell_type": "code",
   "execution_count": 6,
   "id": "2982f265",
   "metadata": {},
   "outputs": [
    {
     "name": "stdout",
     "output_type": "stream",
     "text": [
      "Minimum Amount: -1.0\n",
      "Maximum Amount: 2033.0\n",
      "Std. Deviation of Amount: 38.72390877418945\n",
      "Variance of Amount: 1499.5411107517464\n"
     ]
    }
   ],
   "source": [
    "#Print Statistic info of data\n",
    "print(\"Minimum Amount:\" , df['Amount'].min())\n",
    "print(\"Maximum Amount:\" , df['Amount'].max())\n",
    "print(\"Std. Deviation of Amount:\" , stat.stdev(df['Amount']))\n",
    "print(\"Variance of Amount:\" , stat.variance(df['Amount']))"
   ]
  },
  {
   "cell_type": "code",
   "execution_count": 7,
   "id": "24a013aa",
   "metadata": {},
   "outputs": [],
   "source": [
    "#Convert to appropriate datetime format and extract only Month-year from Transaction Date\n",
    "df['TransactionDate'] = pd.to_datetime(df['TransactionDate'],format='%m/%d/%Y')\n",
    "df['TransMY']=pd.to_datetime(df['TransactionDate'].apply(lambda dt: dt.replace(day=1)))\n",
    "\n",
    "#Calc Transaction Amount for Year-Month combination\n",
    "df['TransactionAmtMY']= df.groupby(df['TransMY'])['Amount'].transform(sum)"
   ]
  },
  {
   "cell_type": "code",
   "execution_count": 8,
   "id": "33b17fc5",
   "metadata": {},
   "outputs": [
    {
     "data": {
      "image/png": "[encoded data removed]",
      "text/plain": [
       "<Figure size 432x288 with 1 Axes>"
      ]
     },
     "metadata": {
      "needs_background": "light"
     },
     "output_type": "display_data"
    }
   ],
   "source": [
    "#Plot time series for Transaction Amount for Transaction Dates over Year-Month\n",
    "df.plot(x='TransMY', y='TransactionAmtMY', lw=2)\n",
    "\n",
    "date_format = mpl_dates.DateFormatter('%Y-%m')\n",
    "plt.gca().xaxis.set_major_formatter(date_format)\n",
    "\n",
    "plt.rcParams.update({'font.size': 120})\n",
    "\n",
    "plt.xlabel('Transaction Date', fontsize=10)\n",
    "plt.ylabel('Amount', fontsize=10)\n",
    "plt.show()"
   ]
  },
  {
   "cell_type": "markdown",
   "id": "78d1f6fb",
   "metadata": {},
   "source": [
    "Except for the three outliers as found below, the above graph shows that there has been an infaltion in customer transaction amount over the years"
   ]
  },
  {
   "cell_type": "markdown",
   "id": "977a9308",
   "metadata": {},
   "source": [
    "STEP 2"
   ]
  },
  {
   "cell_type": "code",
   "execution_count": 9,
   "id": "b479df8f",
   "metadata": {},
   "outputs": [
    {
     "data": {
      "text/html": [
       "<div>\n",
       "<style scoped>\n",
       "    .dataframe tbody tr th:only-of-type {\n",
       "        vertical-align: middle;\n",
       "    }\n",
       "\n",
       "    .dataframe tbody tr th {\n",
       "        vertical-align: top;\n",
       "    }\n",
       "\n",
       "    .dataframe thead th {\n",
       "        text-align: right;\n",
       "    }\n",
       "</style>\n",
       "<table border=\"1\" class=\"dataframe\">\n",
       "  <thead>\n",
       "    <tr style=\"text-align: right;\">\n",
       "      <th></th>\n",
       "      <th>TransactionID</th>\n",
       "      <th>TransactionDate</th>\n",
       "      <th>CustomerID</th>\n",
       "      <th>Amount</th>\n",
       "      <th>TransMY</th>\n",
       "      <th>TransactionAmtMY</th>\n",
       "    </tr>\n",
       "  </thead>\n",
       "  <tbody>\n",
       "    <tr>\n",
       "      <th>23</th>\n",
       "      <td>24</td>\n",
       "      <td>2011-10-07</td>\n",
       "      <td>7</td>\n",
       "      <td>1003.0</td>\n",
       "      <td>2011-10-01</td>\n",
       "      <td>1356.82</td>\n",
       "    </tr>\n",
       "    <tr>\n",
       "      <th>211</th>\n",
       "      <td>212</td>\n",
       "      <td>2014-05-14</td>\n",
       "      <td>54</td>\n",
       "      <td>1027.0</td>\n",
       "      <td>2014-05-01</td>\n",
       "      <td>1691.25</td>\n",
       "    </tr>\n",
       "    <tr>\n",
       "      <th>4177</th>\n",
       "      <td>4178</td>\n",
       "      <td>2012-08-13</td>\n",
       "      <td>1000</td>\n",
       "      <td>2033.0</td>\n",
       "      <td>2012-08-01</td>\n",
       "      <td>2508.98</td>\n",
       "    </tr>\n",
       "  </tbody>\n",
       "</table>\n",
       "</div>"
      ],
      "text/plain": [
       "      TransactionID TransactionDate  CustomerID  Amount    TransMY  \\\n",
       "23               24      2011-10-07           7  1003.0 2011-10-01   \n",
       "211             212      2014-05-14          54  1027.0 2014-05-01   \n",
       "4177           4178      2012-08-13        1000  2033.0 2012-08-01   \n",
       "\n",
       "      TransactionAmtMY  \n",
       "23             1356.82  \n",
       "211            1691.25  \n",
       "4177           2508.98  "
      ]
     },
     "execution_count": 9,
     "metadata": {},
     "output_type": "execute_result"
    }
   ],
   "source": [
    "#Extract outliers - values that lie above or below 2.5*std dev of Transaction Amount\n",
    "df[np.abs(df['Amount']-df['Amount'].mean()) >= (2.5*stat.stdev(df['Amount']))]"
   ]
  },
  {
   "cell_type": "code",
   "execution_count": 10,
   "id": "8f6d5481",
   "metadata": {},
   "outputs": [
    {
     "data": {
      "text/html": [
       "<div>\n",
       "<style scoped>\n",
       "    .dataframe tbody tr th:only-of-type {\n",
       "        vertical-align: middle;\n",
       "    }\n",
       "\n",
       "    .dataframe tbody tr th {\n",
       "        vertical-align: top;\n",
       "    }\n",
       "\n",
       "    .dataframe thead th {\n",
       "        text-align: right;\n",
       "    }\n",
       "</style>\n",
       "<table border=\"1\" class=\"dataframe\">\n",
       "  <thead>\n",
       "    <tr style=\"text-align: right;\">\n",
       "      <th></th>\n",
       "      <th>TransactionID</th>\n",
       "      <th>TransactionDate</th>\n",
       "      <th>CustomerID</th>\n",
       "      <th>Amount</th>\n",
       "      <th>TransMY</th>\n",
       "      <th>TransactionAmtMY</th>\n",
       "    </tr>\n",
       "  </thead>\n",
       "  <tbody>\n",
       "    <tr>\n",
       "      <th>49</th>\n",
       "      <td>50</td>\n",
       "      <td>2012-05-12</td>\n",
       "      <td>13</td>\n",
       "      <td>-1.0</td>\n",
       "      <td>2012-05-01</td>\n",
       "      <td>348.88</td>\n",
       "    </tr>\n",
       "    <tr>\n",
       "      <th>3326</th>\n",
       "      <td>3327</td>\n",
       "      <td>2014-01-16</td>\n",
       "      <td>811</td>\n",
       "      <td>-1.0</td>\n",
       "      <td>2014-01-01</td>\n",
       "      <td>507.58</td>\n",
       "    </tr>\n",
       "  </tbody>\n",
       "</table>\n",
       "</div>"
      ],
      "text/plain": [
       "      TransactionID TransactionDate  CustomerID  Amount    TransMY  \\\n",
       "49               50      2012-05-12          13    -1.0 2012-05-01   \n",
       "3326           3327      2014-01-16         811    -1.0 2014-01-01   \n",
       "\n",
       "      TransactionAmtMY  \n",
       "49              348.88  \n",
       "3326            507.58  "
      ]
     },
     "execution_count": 10,
     "metadata": {},
     "output_type": "execute_result"
    }
   ],
   "source": [
    "#Negative Transaction Amounts  - since amount transacted has to be zero or more\n",
    "df[df['Amount']<0]"
   ]
  },
  {
   "cell_type": "markdown",
   "id": "ab05df73",
   "metadata": {},
   "source": [
    "There are 3 records that are outliers and 2 that are negative. We can treat them by removing them from the dataset"
   ]
  },
  {
   "cell_type": "code",
   "execution_count": 11,
   "id": "b4e62666",
   "metadata": {},
   "outputs": [],
   "source": [
    "#Remove outliers\n",
    "df = df[np.abs(df['Amount']-df['Amount'].mean()) <= (2.5*stat.stdev(df['Amount']))]\n",
    "df = df[df['Amount']>=0]"
   ]
  },
  {
   "cell_type": "markdown",
   "id": "491da79c",
   "metadata": {},
   "source": [
    "STEP 3"
   ]
  },
  {
   "cell_type": "code",
   "execution_count": 12,
   "id": "93018b0b",
   "metadata": {},
   "outputs": [],
   "source": [
    "#remove unecessary columns\n",
    "df = df.drop(['TransMY','TransactionAmtMY'],axis=1)\n",
    "\n",
    "#Calc Earliest Transaction Date for each customer and find Origin Year\n",
    "df['EarliestCustomerTransactionDt']= df.groupby(['CustomerID'])['TransactionDate'].transform(min)\n",
    "df['Origin_1']=pd.to_datetime(df['EarliestCustomerTransactionDt']).apply(lambda dt: dt.replace(day=1,month=1))\n",
    "df['Origin_2']=pd.to_datetime(df['EarliestCustomerTransactionDt']).apply(lambda dt: dt.replace(day=31,month=12))\n",
    "df['Origin'] = df['Origin_1'].astype(str)+' - '+df['Origin_2'].astype(str)"
   ]
  },
  {
   "cell_type": "code",
   "execution_count": 13,
   "id": "771b5567",
   "metadata": {},
   "outputs": [],
   "source": [
    "#Calc Age column based on the difference in Transaction Date and Origin Year\n",
    "new_df = df\n",
    "new_df['Monthdifference'] = (df['TransactionDate']-df['Origin_1']).dt.days / 30\n",
    "\n",
    "new_df['Age'] = 12*round(new_df['Monthdifference']/12)\n",
    "new_df['Age'] = new_df['Age'].replace(0,12)\n",
    "new_df = new_df.drop(['Monthdifference','EarliestCustomerTransactionDt','Origin_1','Origin_2'],axis=1)"
   ]
  },
  {
   "cell_type": "code",
   "execution_count": 14,
   "id": "6179499d",
   "metadata": {},
   "outputs": [
    {
     "data": {
      "text/html": [
       "<div>\n",
       "<style scoped>\n",
       "    .dataframe tbody tr th:only-of-type {\n",
       "        vertical-align: middle;\n",
       "    }\n",
       "\n",
       "    .dataframe tbody tr th {\n",
       "        vertical-align: top;\n",
       "    }\n",
       "\n",
       "    .dataframe thead th {\n",
       "        text-align: right;\n",
       "    }\n",
       "</style>\n",
       "<table border=\"1\" class=\"dataframe\">\n",
       "  <thead>\n",
       "    <tr style=\"text-align: right;\">\n",
       "      <th>Age</th>\n",
       "      <th>12.0</th>\n",
       "      <th>24.0</th>\n",
       "      <th>36.0</th>\n",
       "      <th>48.0</th>\n",
       "      <th>60.0</th>\n",
       "      <th>72.0</th>\n",
       "    </tr>\n",
       "    <tr>\n",
       "      <th>Origin</th>\n",
       "      <th></th>\n",
       "      <th></th>\n",
       "      <th></th>\n",
       "      <th></th>\n",
       "      <th></th>\n",
       "      <th></th>\n",
       "    </tr>\n",
       "  </thead>\n",
       "  <tbody>\n",
       "    <tr>\n",
       "      <th>2010-01-01 - 2010-12-31</th>\n",
       "      <td>2951.55</td>\n",
       "      <td>4454.22</td>\n",
       "      <td>5908.71</td>\n",
       "      <td>7176.76</td>\n",
       "      <td>8416.45</td>\n",
       "      <td>8964.49</td>\n",
       "    </tr>\n",
       "    <tr>\n",
       "      <th>2011-01-01 - 2011-12-31</th>\n",
       "      <td>2898.98</td>\n",
       "      <td>4676.48</td>\n",
       "      <td>6064.11</td>\n",
       "      <td>7253.50</td>\n",
       "      <td>7862.24</td>\n",
       "      <td>NaN</td>\n",
       "    </tr>\n",
       "    <tr>\n",
       "      <th>2012-01-01 - 2012-12-31</th>\n",
       "      <td>2973.29</td>\n",
       "      <td>4566.49</td>\n",
       "      <td>5823.41</td>\n",
       "      <td>6501.85</td>\n",
       "      <td>NaN</td>\n",
       "      <td>NaN</td>\n",
       "    </tr>\n",
       "    <tr>\n",
       "      <th>2013-01-01 - 2013-12-31</th>\n",
       "      <td>2864.71</td>\n",
       "      <td>4313.27</td>\n",
       "      <td>5227.75</td>\n",
       "      <td>NaN</td>\n",
       "      <td>NaN</td>\n",
       "      <td>NaN</td>\n",
       "    </tr>\n",
       "    <tr>\n",
       "      <th>2014-01-01 - 2014-12-31</th>\n",
       "      <td>2575.32</td>\n",
       "      <td>3262.05</td>\n",
       "      <td>NaN</td>\n",
       "      <td>NaN</td>\n",
       "      <td>NaN</td>\n",
       "      <td>NaN</td>\n",
       "    </tr>\n",
       "    <tr>\n",
       "      <th>2015-01-01 - 2015-12-31</th>\n",
       "      <td>1912.17</td>\n",
       "      <td>NaN</td>\n",
       "      <td>NaN</td>\n",
       "      <td>NaN</td>\n",
       "      <td>NaN</td>\n",
       "      <td>NaN</td>\n",
       "    </tr>\n",
       "  </tbody>\n",
       "</table>\n",
       "</div>"
      ],
      "text/plain": [
       "Age                         12.0     24.0     36.0     48.0     60.0     72.0\n",
       "Origin                                                                       \n",
       "2010-01-01 - 2010-12-31  2951.55  4454.22  5908.71  7176.76  8416.45  8964.49\n",
       "2011-01-01 - 2011-12-31  2898.98  4676.48  6064.11  7253.50  7862.24      NaN\n",
       "2012-01-01 - 2012-12-31  2973.29  4566.49  5823.41  6501.85      NaN      NaN\n",
       "2013-01-01 - 2013-12-31  2864.71  4313.27  5227.75      NaN      NaN      NaN\n",
       "2014-01-01 - 2014-12-31  2575.32  3262.05      NaN      NaN      NaN      NaN\n",
       "2015-01-01 - 2015-12-31  1912.17      NaN      NaN      NaN      NaN      NaN"
      ]
     },
     "execution_count": 14,
     "metadata": {},
     "output_type": "execute_result"
    }
   ],
   "source": [
    "#Calc Cumulative Transaction Amount by aggregating Transaction Amount on Origin and Age\n",
    "new_df['Amt_cltv'] = new_df.groupby(['Origin','Age'])['Amount'].transform(sum)\n",
    "\n",
    "cltv_amt_df = new_df[['Origin','Age','Amt_cltv']]\n",
    "cltv_amt_df = cltv_amt_df.drop_duplicates()\n",
    "\n",
    "#Pivot the dataframe to get cumulative Amount in required format\n",
    "cltv_amt_df = cltv_amt_df.pivot(index='Origin', columns='Age', values='Amt_cltv')\n",
    "cltv_amt_df = cltv_amt_df.cumsum(axis=1)\n",
    "cltv_amt_df"
   ]
  },
  {
   "cell_type": "code",
   "execution_count": 15,
   "id": "9e6d1fe0",
   "metadata": {},
   "outputs": [
    {
     "data": {
      "text/html": [
       "<div>\n",
       "<style scoped>\n",
       "    .dataframe tbody tr th:only-of-type {\n",
       "        vertical-align: middle;\n",
       "    }\n",
       "\n",
       "    .dataframe tbody tr th {\n",
       "        vertical-align: top;\n",
       "    }\n",
       "\n",
       "    .dataframe thead th {\n",
       "        text-align: right;\n",
       "    }\n",
       "</style>\n",
       "<table border=\"1\" class=\"dataframe\">\n",
       "  <thead>\n",
       "    <tr style=\"text-align: right;\">\n",
       "      <th>Age</th>\n",
       "      <th>12.0</th>\n",
       "      <th>24.0</th>\n",
       "      <th>36.0</th>\n",
       "      <th>48.0</th>\n",
       "      <th>60.0</th>\n",
       "      <th>72.0</th>\n",
       "    </tr>\n",
       "    <tr>\n",
       "      <th>Origin</th>\n",
       "      <th></th>\n",
       "      <th></th>\n",
       "      <th></th>\n",
       "      <th></th>\n",
       "      <th></th>\n",
       "      <th></th>\n",
       "    </tr>\n",
       "  </thead>\n",
       "  <tbody>\n",
       "    <tr>\n",
       "      <th>2010-01-01 - 2010-12-31</th>\n",
       "      <td>172.0</td>\n",
       "      <td>172.0</td>\n",
       "      <td>172.0</td>\n",
       "      <td>172.0</td>\n",
       "      <td>172.0</td>\n",
       "      <td>172.0</td>\n",
       "    </tr>\n",
       "    <tr>\n",
       "      <th>2011-01-01 - 2011-12-31</th>\n",
       "      <td>170.0</td>\n",
       "      <td>170.0</td>\n",
       "      <td>170.0</td>\n",
       "      <td>170.0</td>\n",
       "      <td>170.0</td>\n",
       "      <td>NaN</td>\n",
       "    </tr>\n",
       "    <tr>\n",
       "      <th>2012-01-01 - 2012-12-31</th>\n",
       "      <td>163.0</td>\n",
       "      <td>163.0</td>\n",
       "      <td>163.0</td>\n",
       "      <td>163.0</td>\n",
       "      <td>NaN</td>\n",
       "      <td>NaN</td>\n",
       "    </tr>\n",
       "    <tr>\n",
       "      <th>2013-01-01 - 2013-12-31</th>\n",
       "      <td>180.0</td>\n",
       "      <td>180.0</td>\n",
       "      <td>180.0</td>\n",
       "      <td>NaN</td>\n",
       "      <td>NaN</td>\n",
       "      <td>NaN</td>\n",
       "    </tr>\n",
       "    <tr>\n",
       "      <th>2014-01-01 - 2014-12-31</th>\n",
       "      <td>155.0</td>\n",
       "      <td>155.0</td>\n",
       "      <td>NaN</td>\n",
       "      <td>NaN</td>\n",
       "      <td>NaN</td>\n",
       "      <td>NaN</td>\n",
       "    </tr>\n",
       "    <tr>\n",
       "      <th>2015-01-01 - 2015-12-31</th>\n",
       "      <td>160.0</td>\n",
       "      <td>NaN</td>\n",
       "      <td>NaN</td>\n",
       "      <td>NaN</td>\n",
       "      <td>NaN</td>\n",
       "      <td>NaN</td>\n",
       "    </tr>\n",
       "  </tbody>\n",
       "</table>\n",
       "</div>"
      ],
      "text/plain": [
       "Age                       12.0   24.0   36.0   48.0   60.0   72.0\n",
       "Origin                                                           \n",
       "2010-01-01 - 2010-12-31  172.0  172.0  172.0  172.0  172.0  172.0\n",
       "2011-01-01 - 2011-12-31  170.0  170.0  170.0  170.0  170.0    NaN\n",
       "2012-01-01 - 2012-12-31  163.0  163.0  163.0  163.0    NaN    NaN\n",
       "2013-01-01 - 2013-12-31  180.0  180.0  180.0    NaN    NaN    NaN\n",
       "2014-01-01 - 2014-12-31  155.0  155.0    NaN    NaN    NaN    NaN\n",
       "2015-01-01 - 2015-12-31  160.0    NaN    NaN    NaN    NaN    NaN"
      ]
     },
     "execution_count": 15,
     "metadata": {},
     "output_type": "execute_result"
    }
   ],
   "source": [
    "#Calc Cumulative Transaction Amount by adding unique Customers per Origin and Age\n",
    "\n",
    "new_df['customer_cltv'] = new_df.groupby(['Origin'])['CustomerID'].transform('nunique')\n",
    "\n",
    "cltv_cust_df = new_df[['Origin','Age','customer_cltv']]\n",
    "cltv_cust_df = cltv_cust_df.drop_duplicates()\n",
    "\n",
    "#Pivot the dataframe to get cumulative # new Customers in required format\n",
    "cltv_cust_df =cltv_cust_df.pivot(index='Origin', columns='Age', values='customer_cltv')\n",
    "cltv_cust_df"
   ]
  },
  {
   "cell_type": "code",
   "execution_count": 16,
   "id": "3e4b642d",
   "metadata": {
    "scrolled": true
   },
   "outputs": [
    {
     "data": {
      "text/html": [
       "<div>\n",
       "<style scoped>\n",
       "    .dataframe tbody tr th:only-of-type {\n",
       "        vertical-align: middle;\n",
       "    }\n",
       "\n",
       "    .dataframe tbody tr th {\n",
       "        vertical-align: top;\n",
       "    }\n",
       "\n",
       "    .dataframe thead th {\n",
       "        text-align: right;\n",
       "    }\n",
       "</style>\n",
       "<table border=\"1\" class=\"dataframe\">\n",
       "  <thead>\n",
       "    <tr style=\"text-align: right;\">\n",
       "      <th>Age</th>\n",
       "      <th>12.0</th>\n",
       "      <th>24.0</th>\n",
       "      <th>36.0</th>\n",
       "      <th>48.0</th>\n",
       "      <th>60.0</th>\n",
       "      <th>72.0</th>\n",
       "    </tr>\n",
       "    <tr>\n",
       "      <th>Origin</th>\n",
       "      <th></th>\n",
       "      <th></th>\n",
       "      <th></th>\n",
       "      <th></th>\n",
       "      <th></th>\n",
       "      <th></th>\n",
       "    </tr>\n",
       "  </thead>\n",
       "  <tbody>\n",
       "    <tr>\n",
       "      <th>2010-01-01 - 2010-12-31</th>\n",
       "      <td>17.160174</td>\n",
       "      <td>25.896628</td>\n",
       "      <td>34.352965</td>\n",
       "      <td>41.725349</td>\n",
       "      <td>48.932849</td>\n",
       "      <td>52.119128</td>\n",
       "    </tr>\n",
       "    <tr>\n",
       "      <th>2011-01-01 - 2011-12-31</th>\n",
       "      <td>17.052824</td>\n",
       "      <td>27.508706</td>\n",
       "      <td>35.671235</td>\n",
       "      <td>42.667647</td>\n",
       "      <td>46.248471</td>\n",
       "      <td>NaN</td>\n",
       "    </tr>\n",
       "    <tr>\n",
       "      <th>2012-01-01 - 2012-12-31</th>\n",
       "      <td>18.241043</td>\n",
       "      <td>28.015276</td>\n",
       "      <td>35.726442</td>\n",
       "      <td>39.888650</td>\n",
       "      <td>NaN</td>\n",
       "      <td>NaN</td>\n",
       "    </tr>\n",
       "    <tr>\n",
       "      <th>2013-01-01 - 2013-12-31</th>\n",
       "      <td>15.915056</td>\n",
       "      <td>23.962611</td>\n",
       "      <td>29.043056</td>\n",
       "      <td>NaN</td>\n",
       "      <td>NaN</td>\n",
       "      <td>NaN</td>\n",
       "    </tr>\n",
       "    <tr>\n",
       "      <th>2014-01-01 - 2014-12-31</th>\n",
       "      <td>16.614968</td>\n",
       "      <td>21.045484</td>\n",
       "      <td>NaN</td>\n",
       "      <td>NaN</td>\n",
       "      <td>NaN</td>\n",
       "      <td>NaN</td>\n",
       "    </tr>\n",
       "    <tr>\n",
       "      <th>2015-01-01 - 2015-12-31</th>\n",
       "      <td>11.951062</td>\n",
       "      <td>NaN</td>\n",
       "      <td>NaN</td>\n",
       "      <td>NaN</td>\n",
       "      <td>NaN</td>\n",
       "      <td>NaN</td>\n",
       "    </tr>\n",
       "  </tbody>\n",
       "</table>\n",
       "</div>"
      ],
      "text/plain": [
       "Age                           12.0       24.0       36.0       48.0  \\\n",
       "Origin                                                                \n",
       "2010-01-01 - 2010-12-31  17.160174  25.896628  34.352965  41.725349   \n",
       "2011-01-01 - 2011-12-31  17.052824  27.508706  35.671235  42.667647   \n",
       "2012-01-01 - 2012-12-31  18.241043  28.015276  35.726442  39.888650   \n",
       "2013-01-01 - 2013-12-31  15.915056  23.962611  29.043056        NaN   \n",
       "2014-01-01 - 2014-12-31  16.614968  21.045484        NaN        NaN   \n",
       "2015-01-01 - 2015-12-31  11.951062        NaN        NaN        NaN   \n",
       "\n",
       "Age                           60.0       72.0  \n",
       "Origin                                         \n",
       "2010-01-01 - 2010-12-31  48.932849  52.119128  \n",
       "2011-01-01 - 2011-12-31  46.248471        NaN  \n",
       "2012-01-01 - 2012-12-31        NaN        NaN  \n",
       "2013-01-01 - 2013-12-31        NaN        NaN  \n",
       "2014-01-01 - 2014-12-31        NaN        NaN  \n",
       "2015-01-01 - 2015-12-31        NaN        NaN  "
      ]
     },
     "execution_count": 16,
     "metadata": {},
     "output_type": "execute_result"
    }
   ],
   "source": [
    "#Get historic cumulative amount from the above two pivots\n",
    "clv_historic = cltv_amt_df/cltv_cust_df\n",
    "clv_historic"
   ]
  },
  {
   "cell_type": "code",
   "execution_count": 17,
   "id": "cd82c48e",
   "metadata": {},
   "outputs": [
    {
     "data": {
      "image/png": "[encoded data removed]",
      "text/plain": [
       "<Figure size 432x288 with 1 Axes>"
      ]
     },
     "metadata": {
      "needs_background": "light"
     },
     "output_type": "display_data"
    }
   ],
   "source": [
    "#plot Age vs. Historic Amt Cmltv for each Origin Year\n",
    "\n",
    "for i,c in clv_historic.iterrows():\n",
    "        plt.plot(clv_historic.columns,c.values,label=i,marker='o')\n",
    "        \n",
    "plt.style.use('seaborn')\n",
    "plt.rcParams.update({'font.size': 10})\n",
    "\n",
    "plt.xticks(fontsize=10)\n",
    "plt.yticks(fontsize=10)\n",
    "\n",
    "plt.xlabel('Age', fontsize=12)\n",
    "plt.ylabel('HistoricCLV', fontsize=12)\n",
    "plt.legend(clv_historic.index,loc=\"upper left\")\n",
    "plt.tight_layout()\n",
    "plt.show()"
   ]
  },
  {
   "cell_type": "markdown",
   "id": "c8140653",
   "metadata": {},
   "source": [
    " - How much have customers acquired in 2011 spent to date?\n",
    "\n",
    "Ans: 46.24$\n",
    "    \n",
    "- Do each group of customers exhibit similar or different patterns of spending? What’s the implication for the business?\n",
    "\n",
    "Ans: Each group has a similar patter of spending. With each passing year, the cumulative transaction amount per customer group increases steadily. In first year they seem to spend 11$-17$, second 21$-25$, third 29$-35$, fourth 39$-42$, fifth 46$-48$ and last 52$. This shows that their spending pattern, although for people with earlier origin years spend more than the later ones, are similar."
   ]
  }
 ],
 "metadata": {
  "kernelspec": {
   "display_name": "Python 3",
   "language": "python",
   "name": "python3"
  },
  "language_info": {
   "codemirror_mode": {
    "name": "ipython",
    "version": 3
   },
   "file_extension": ".py",
   "mimetype": "text/x-python",
   "name": "python",
   "nbconvert_exporter": "python",
   "pygments_lexer": "ipython3",
   "version": "3.8.8"
  }
 },
 "nbformat": 4,
 "nbformat_minor": 5
}
