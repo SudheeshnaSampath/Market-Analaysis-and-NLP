{
 "cells": [
  {
   "cell_type": "markdown",
   "id": "a555a635",
   "metadata": {},
   "source": [
    "# DSPM HW#3\n",
    "\n",
    "Name: Sudheeshna Sampath\n",
    "\n",
    "Andrew ID: sudheess"
   ]
  },
  {
   "cell_type": "markdown",
   "id": "3c626bd3",
   "metadata": {},
   "source": [
    "# PART 1 - EDA"
   ]
  },
  {
   "cell_type": "code",
   "execution_count": 1,
   "id": "f544bb2c",
   "metadata": {},
   "outputs": [],
   "source": [
    "#load necessary packages\n",
    "import pandas as pd\n",
    "import numpy as np\n",
    "import matplotlib.pyplot as plt\n",
    "import seaborn as sns\n",
    "import matplotlib as mpl\n",
    "import nltk\n",
    "import spacy\n",
    "import re\n",
    "from operator import itemgetter\n",
    "from collections import Counter\n",
    "from sklearn.model_selection import train_test_split\n",
    "from sklearn.feature_extraction.text import TfidfVectorizer\n",
    "from sklearn.svm import LinearSVC\n",
    "from sklearn.metrics import plot_confusion_matrix\n",
    "from sklearn.model_selection import train_test_split\n",
    "from imblearn.over_sampling import RandomOverSampler\n",
    "from sklearn.metrics import accuracy_score\n",
    "from sklearn.metrics import confusion_matrix, plot_confusion_matrix\n",
    "from sklearn.model_selection import GridSearchCV\n",
    "# import nltk\n",
    "# nltk.download('stopwords')\n",
    "from nltk.corpus import stopwords"
   ]
  },
  {
   "cell_type": "code",
   "execution_count": 2,
   "id": "a70a6abe",
   "metadata": {},
   "outputs": [],
   "source": [
    "#read input file\n",
    "df_full = pd.read_csv(\"C:\\\\Users\\\\sudhe\\\\Desktop\\\\Spring '22\\\\DSPM\\\\HW3\\\\Twitter-sentiment-self-drive-DFE.csv\")"
   ]
  },
  {
   "cell_type": "code",
   "execution_count": 3,
   "id": "72344859",
   "metadata": {},
   "outputs": [],
   "source": [
    "#Drop unnecessary columns\n",
    "df = df_full.drop(['_unit_state','sentiment_gold','sentiment_gold_reason'],axis=1)"
   ]
  },
  {
   "cell_type": "code",
   "execution_count": 4,
   "id": "a6e9a870",
   "metadata": {},
   "outputs": [
    {
     "data": {
      "text/html": [
       "<div>\n",
       "<style scoped>\n",
       "    .dataframe tbody tr th:only-of-type {\n",
       "        vertical-align: middle;\n",
       "    }\n",
       "\n",
       "    .dataframe tbody tr th {\n",
       "        vertical-align: top;\n",
       "    }\n",
       "\n",
       "    .dataframe thead th {\n",
       "        text-align: right;\n",
       "    }\n",
       "</style>\n",
       "<table border=\"1\" class=\"dataframe\">\n",
       "  <thead>\n",
       "    <tr style=\"text-align: right;\">\n",
       "      <th></th>\n",
       "      <th>_unit_id</th>\n",
       "      <th>_trusted_judgments</th>\n",
       "      <th>sentiment:confidence</th>\n",
       "      <th>our_id</th>\n",
       "    </tr>\n",
       "  </thead>\n",
       "  <tbody>\n",
       "    <tr>\n",
       "      <th>count</th>\n",
       "      <td>7.156000e+03</td>\n",
       "      <td>7156.000000</td>\n",
       "      <td>7156.000000</td>\n",
       "      <td>7156.000000</td>\n",
       "    </tr>\n",
       "    <tr>\n",
       "      <th>mean</th>\n",
       "      <td>7.243474e+08</td>\n",
       "      <td>5.834405</td>\n",
       "      <td>0.774654</td>\n",
       "      <td>3609.930548</td>\n",
       "    </tr>\n",
       "    <tr>\n",
       "      <th>std</th>\n",
       "      <td>2.506742e+05</td>\n",
       "      <td>11.144930</td>\n",
       "      <td>0.205363</td>\n",
       "      <td>2140.401611</td>\n",
       "    </tr>\n",
       "    <tr>\n",
       "      <th>min</th>\n",
       "      <td>7.242270e+08</td>\n",
       "      <td>1.000000</td>\n",
       "      <td>0.248000</td>\n",
       "      <td>1.000000</td>\n",
       "    </tr>\n",
       "    <tr>\n",
       "      <th>25%</th>\n",
       "      <td>7.243229e+08</td>\n",
       "      <td>3.000000</td>\n",
       "      <td>0.630600</td>\n",
       "      <td>1789.750000</td>\n",
       "    </tr>\n",
       "    <tr>\n",
       "      <th>50%</th>\n",
       "      <td>7.243247e+08</td>\n",
       "      <td>4.000000</td>\n",
       "      <td>0.753100</td>\n",
       "      <td>3578.500000</td>\n",
       "    </tr>\n",
       "    <tr>\n",
       "      <th>75%</th>\n",
       "      <td>7.243265e+08</td>\n",
       "      <td>8.000000</td>\n",
       "      <td>1.000000</td>\n",
       "      <td>5367.250000</td>\n",
       "    </tr>\n",
       "    <tr>\n",
       "      <th>max</th>\n",
       "      <td>7.269423e+08</td>\n",
       "      <td>241.000000</td>\n",
       "      <td>1.000000</td>\n",
       "      <td>10077.000000</td>\n",
       "    </tr>\n",
       "  </tbody>\n",
       "</table>\n",
       "</div>"
      ],
      "text/plain": [
       "           _unit_id  _trusted_judgments  sentiment:confidence        our_id\n",
       "count  7.156000e+03         7156.000000           7156.000000   7156.000000\n",
       "mean   7.243474e+08            5.834405              0.774654   3609.930548\n",
       "std    2.506742e+05           11.144930              0.205363   2140.401611\n",
       "min    7.242270e+08            1.000000              0.248000      1.000000\n",
       "25%    7.243229e+08            3.000000              0.630600   1789.750000\n",
       "50%    7.243247e+08            4.000000              0.753100   3578.500000\n",
       "75%    7.243265e+08            8.000000              1.000000   5367.250000\n",
       "max    7.269423e+08          241.000000              1.000000  10077.000000"
      ]
     },
     "execution_count": 4,
     "metadata": {},
     "output_type": "execute_result"
    }
   ],
   "source": [
    "#Get data summary\n",
    "df.describe()"
   ]
  },
  {
   "cell_type": "code",
   "execution_count": 5,
   "id": "99960f98",
   "metadata": {},
   "outputs": [],
   "source": [
    "#Remove outliers in _trusted_judgments_column\n",
    "df= df[np.abs(df['_trusted_judgments']-df['_trusted_judgments'].mean())<=(3*df['_trusted_judgments'].std())] \n",
    "\n",
    "#Remove not_relevant sentiments\n",
    "df = df[df['sentiment']!='not_relevant']"
   ]
  },
  {
   "cell_type": "code",
   "execution_count": 6,
   "id": "6d118560",
   "metadata": {},
   "outputs": [
    {
     "name": "stdout",
     "output_type": "stream",
     "text": [
      "Column         # Missing values\n",
      "_last_judgment_at : 1\n"
     ]
    }
   ],
   "source": [
    "#Find number of missing values in the data\n",
    "miss_val = df.isnull().sum()\n",
    "print(\"Column         # Missing values\")\n",
    "for key,value in miss_val.iteritems():\n",
    "    if(value>0):\n",
    "        print(key,\":\",value)"
   ]
  },
  {
   "cell_type": "code",
   "execution_count": 7,
   "id": "fb5ddaee",
   "metadata": {},
   "outputs": [],
   "source": [
    "#remove rows with missing _last_judgment_at \n",
    "df = df[df['_last_judgment_at'].isna()==False]"
   ]
  },
  {
   "cell_type": "code",
   "execution_count": 8,
   "id": "0a7d945b",
   "metadata": {},
   "outputs": [
    {
     "data": {
      "text/plain": [
       "<AxesSubplot:xlabel='sentiment', ylabel='count'>"
      ]
     },
     "execution_count": 8,
     "metadata": {},
     "output_type": "execute_result"
    },
    {
     "data": {
      "image/png": "[encoded data removed]",
      "text/plain": [
       "<Figure size 432x288 with 1 Axes>"
      ]
     },
     "metadata": {
      "needs_background": "light"
     },
     "output_type": "display_data"
    }
   ],
   "source": [
    "#Plot frequency of each sentiment\n",
    "sns.countplot(x='sentiment', data=df)"
   ]
  },
  {
   "cell_type": "markdown",
   "id": "b3fe8a08",
   "metadata": {},
   "source": [
    "The above graph shows that the dataset is imabalanced. The data has many samples of Sentiment 3 and very little samples related to sentiments 1,2 &5. This can cause incorrect predictions and low accuracy in these low sample sentiments"
   ]
  },
  {
   "cell_type": "code",
   "execution_count": 9,
   "id": "981d1be5",
   "metadata": {},
   "outputs": [
    {
     "data": {
      "image/png": "[encoded data removed]",
      "text/plain": [
       "<Figure size 432x288 with 1 Axes>"
      ]
     },
     "metadata": {
      "needs_background": "light"
     },
     "output_type": "display_data"
    }
   ],
   "source": [
    "#plot sentiment confidence with respect to each sentiment\n",
    "df['avg_sentiment_confidence'] = df.groupby(['sentiment'])['sentiment:confidence'].transform('mean')\n",
    "plt.bar(df['sentiment'],df['avg_sentiment_confidence'])\n",
    "plt.show()"
   ]
  },
  {
   "cell_type": "markdown",
   "id": "1cf02774",
   "metadata": {},
   "source": [
    "The weights associated seem to be evenly distributed."
   ]
  },
  {
   "cell_type": "code",
   "execution_count": 10,
   "id": "fba195e1",
   "metadata": {},
   "outputs": [],
   "source": [
    "#Get count of each sentiment w.r.t each judgment at\n",
    "df['_last_judgment_at_date'] = pd.to_datetime(df['_last_judgment_at'])\n",
    "df['_last_judgment_at_date'] = df['_last_judgment_at_date'].values.astype('M8[D]')\n",
    "df['_last_judgment_at_date'] = df['_last_judgment_at_date'].astype(str)"
   ]
  },
  {
   "cell_type": "code",
   "execution_count": 11,
   "id": "efbdf32a",
   "metadata": {},
   "outputs": [
    {
     "data": {
      "text/plain": [
       "<Figure size 864x720 with 0 Axes>"
      ]
     },
     "metadata": {},
     "output_type": "display_data"
    },
    {
     "data": {
      "image/png": "[encoded data removed]",
      "text/plain": [
       "<Figure size 432x288 with 1 Axes>"
      ]
     },
     "metadata": {
      "needs_background": "light"
     },
     "output_type": "display_data"
    }
   ],
   "source": [
    "plt.figure(figsize=(12, 10))\n",
    "df.groupby(['_last_judgment_at_date', 'sentiment']).size().unstack().plot(kind='bar', stacked=True)\n",
    "plt.show()"
   ]
  },
  {
   "cell_type": "raw",
   "id": "ba1f6239",
   "metadata": {},
   "source": [
    "Most of the tweets have been passed after May 28,2015."
   ]
  },
  {
   "cell_type": "markdown",
   "id": "62c7dbf6",
   "metadata": {},
   "source": [
    "Insights:\n",
    "\n",
    "From our EDA, we see that the main problem with the dataset is imbalanaced data. To perform sentiment analysis, having lesser samples of certain sentiments can lead to inaccurate predictions and lesser accuracy in the sentiments with less samples. We can deal with this by oversampling our data to balance our dataset."
   ]
  },
  {
   "cell_type": "markdown",
   "id": "abe4e958",
   "metadata": {},
   "source": [
    "# PART 2 - Text Processing "
   ]
  },
  {
   "cell_type": "code",
   "execution_count": 12,
   "id": "8966cfa1",
   "metadata": {},
   "outputs": [],
   "source": [
    "#load nlp package for text processing\n",
    "nlp = spacy.load('en_core_web_sm', disable=['ner', 'parser'])\n",
    "\n",
    "from nltk.stem import SnowballStemmer\n",
    "stemmer = SnowballStemmer('english')"
   ]
  },
  {
   "cell_type": "code",
   "execution_count": 13,
   "id": "d92652a6",
   "metadata": {},
   "outputs": [],
   "source": [
    "#get tokenized text by removing stop words, urls and unnecessary punctions. \n",
    "#Stemming and lemmatization is performed to get required words from the text\n",
    "def tokenize_text(text):\n",
    "    tokenized_words = []\n",
    "    split_text  = re.split('\\s', text)\n",
    "    for splt in split_text:\n",
    "        parsed_text = nlp(splt)\n",
    "        if (parsed_text.text not in tokenized_words):\n",
    "                for t in parsed_text:\n",
    "                    if((re.match('[A-Za-z0-9]',t.lemma_)) and not (re.match('http\\S+',t.lemma_))):\n",
    "                        if(t.lemma_ not in stopwords.words(\"english\")):\n",
    "                            word=stemmer.stem(parsed_text.text.lower().strip())\n",
    "                            word = re.sub('[#.()-,]*','',word)\n",
    "                            tokenized_words.append(word)      \n",
    "    return tokenized_words\n",
    "\n",
    "df['token_text'] = df['text'].apply(lambda x: tokenize_text(x))"
   ]
  },
  {
   "cell_type": "code",
   "execution_count": 14,
   "id": "8ae4c6cd",
   "metadata": {},
   "outputs": [
    {
     "data": {
      "text/plain": [
       "11      [audi, first, carmak, get, licens, nevada, dmv...\n",
       "12      [audi, say, first, car, manufactur, world, get...\n",
       "13      [future!, buy, one, audi, readi, test, autonom...\n",
       "14      [audi, test, drive, driverless, car, tampa, to...\n",
       "15      [audi, first, automak, california, test, self-...\n",
       "                              ...                        \n",
       "7083    [nvidia, drive, px, develop, platform, self-dr...\n",
       "7084    [elon, musk, believ, self, drive, car, 50mph, ...\n",
       "7085    [gtc2015, ceo, elon, musk, ceo, huang, discuss...\n",
       "7086    [self, drive, bmw, also, drift, equal, good, p...\n",
       "7088    [new, tesla, autopilot, read, speed, limit, si...\n",
       "Name: token_text, Length: 6879, dtype: object"
      ]
     },
     "execution_count": 14,
     "metadata": {},
     "output_type": "execute_result"
    }
   ],
   "source": [
    "df['token_text'] "
   ]
  },
  {
   "cell_type": "code",
   "execution_count": 15,
   "id": "c1fbc7ea",
   "metadata": {},
   "outputs": [],
   "source": [
    "#get list of all tokens\n",
    "token_words=[]\n",
    "for i,r in df.iterrows():\n",
    "    for x in r['token_text']:\n",
    "            token_words.append(x)"
   ]
  },
  {
   "cell_type": "code",
   "execution_count": 16,
   "id": "edc43a57",
   "metadata": {},
   "outputs": [
    {
     "data": {
      "image/png": "[encoded data removed]",
      "text/plain": [
       "<Figure size 432x288 with 1 Axes>"
      ]
     },
     "metadata": {
      "needs_background": "light"
     },
     "output_type": "display_data"
    }
   ],
   "source": [
    "#find frequency of each token and get the top 20 tokens\n",
    "tokenCounter= Counter()\n",
    "for i,r in enumerate(token_words):\n",
    "    tokenCounter[r]+=1\n",
    "\n",
    "text_tokens = sorted(tokenCounter.items(),reverse=True,key=itemgetter(1))\n",
    "\n",
    "most_freq_tokens = text_tokens[:20]\n",
    "\n",
    "mostFreqTokens = []\n",
    "for i,r in enumerate(most_freq_tokens):\n",
    "    if(r[0] not in mostFreqTokens):\n",
    "        mostFreqTokens.append(r[0])\n",
    "\n",
    "#Plot the most frequently used tokens \n",
    "plt.bar([x[0] for x in most_freq_tokens],[x[1] for x in most_freq_tokens])\n",
    "plt.xticks(rotation = 90) \n",
    "plt.show()"
   ]
  },
  {
   "cell_type": "code",
   "execution_count": 17,
   "id": "26422519",
   "metadata": {},
   "outputs": [],
   "source": [
    "#get adjectives, nouns, proper nouns\n",
    "adjectiveCount = Counter()\n",
    "nounCount =  Counter()\n",
    "prnCount = Counter()\n",
    "punctCount =  Counter()\n",
    "\n",
    "for i,r in df.iterrows():\n",
    "    split_text  = re.split('\\s', r['text'])\n",
    "    for splt in split_text:\n",
    "        parsed_text = nlp(splt)\n",
    "        for t in parsed_text:\n",
    "            if(t.lemma_ not in stopwords.words(\"english\")):\n",
    "                word=stemmer.stem(parsed_text.text.lower().strip())\n",
    "                word = re.sub('[#.()-,?]*','',word)\n",
    "                if(t.pos_ =='ADJ'):\n",
    "                    adjectiveCount[word]+=1\n",
    "                if(t.pos_ == 'NOUN'):\n",
    "                    nounCount[word]+=1\n",
    "                if(t.pos_ == 'PROPN'):\n",
    "                    prnCount[word]+=1\n",
    "                if(t.pos_ == 'PUNCT'):\n",
    "                    punctCount[word]+=1                "
   ]
  },
  {
   "cell_type": "code",
   "execution_count": 18,
   "id": "599f45c1",
   "metadata": {},
   "outputs": [
    {
     "name": "stdout",
     "output_type": "stream",
     "text": [
      "Most Common word\n",
      "Adjectives:  [('autonom', 345), ('new', 227), ('cool', 87), ('good', 80), ('great', 77)]\n",
      "Nouns:  [('car', 5519), ('self-driv', 2821), ('driverless', 1821), ('self', 1439), ('cars', 691)]\n",
      "Pronouns:  [('googl', 2668), ('google̢��\\x89�', 388), ('@googl', 216), ('̢��\\x89\\u06dd', 204), ('rt', 193)]\n",
      "Punction based words:  [('self-driv', 2459), ('car', 726), ('cars', 700), ('-', 357), ('@', 268)]\n"
     ]
    }
   ],
   "source": [
    "## Part of speech tagging\n",
    "#Most common words \n",
    "print(\"Most Common word\")\n",
    "print(\"Adjectives: \", adjectiveCount.most_common(5))\n",
    "print(\"Nouns: \", nounCount.most_common(5))\n",
    "print(\"Pronouns: \", prnCount.most_common(5))\n",
    "print(\"Punction based words: \", punctCount.most_common(5))"
   ]
  },
  {
   "cell_type": "markdown",
   "id": "013d8706",
   "metadata": {},
   "source": [
    "The Top frequency words are common across all sentiments and would hinder our predictions by adding unnecessary features.\n",
    "We will remove them in the following steps them to increase the computation speed and accuracy of our model. "
   ]
  },
  {
   "cell_type": "code",
   "execution_count": 19,
   "id": "ba56bd00",
   "metadata": {},
   "outputs": [],
   "source": [
    "#Remove most frequently used tokens\n",
    "def remove_freq_words(text):\n",
    "    new_token_list = []\n",
    "    for x in text:\n",
    "        if x not in mostFreqTokens:\n",
    "            new_token_list.append(x)\n",
    "    return new_token_list\n",
    "\n",
    "df['token_text'] = df['token_text'].apply(lambda x: remove_freq_words(x))"
   ]
  },
  {
   "cell_type": "markdown",
   "id": "ee2fa471",
   "metadata": {},
   "source": [
    "# PART 3 - SENTIMENT PREDICTION"
   ]
  },
  {
   "cell_type": "code",
   "execution_count": 20,
   "id": "84d02d88",
   "metadata": {},
   "outputs": [],
   "source": [
    "X=df.token_text\n",
    "y=df.sentiment"
   ]
  },
  {
   "cell_type": "code",
   "execution_count": 21,
   "id": "f18ab113",
   "metadata": {},
   "outputs": [
    {
     "name": "stdout",
     "output_type": "stream",
     "text": [
      "8028\n"
     ]
    }
   ],
   "source": [
    "#Scaling data for standardization\n",
    "vectorizer = TfidfVectorizer(preprocessor=' '.join, stop_words='english')\n",
    "vectorized_X = vectorizer.fit_transform(X)\n",
    "\n",
    "print(len(vectorizer.get_feature_names_out()))"
   ]
  },
  {
   "cell_type": "code",
   "execution_count": 22,
   "id": "39aa1798",
   "metadata": {},
   "outputs": [],
   "source": [
    "#Oversampling data\n",
    "ros = RandomOverSampler(sampling_strategy='all')\n",
    "X_resampled, y_resampled = ros.fit_resample(vectorized_X, y)"
   ]
  },
  {
   "cell_type": "markdown",
   "id": "8802e60e",
   "metadata": {},
   "source": [
    "As seen in the EDA, our data is imabalanced. Oversampling our dataset to even out samples for each sentiment will give better accuracy in our model. After prediction we will compare the performance of oversampled data against our original data to see if oversampling improves accuracy."
   ]
  },
  {
   "cell_type": "code",
   "execution_count": 23,
   "id": "68798552",
   "metadata": {},
   "outputs": [],
   "source": [
    "#Split dataset to train and test\n",
    "X_train, X_test, y_train, y_test = train_test_split(X_resampled,y_resampled,test_size = 0.10, random_state =26105111)"
   ]
  },
  {
   "cell_type": "code",
   "execution_count": 24,
   "id": "0afc5981",
   "metadata": {},
   "outputs": [
    {
     "data": {
      "text/plain": [
       "{'criterion': 'entropy', 'max_depth': 180}"
      ]
     },
     "execution_count": 24,
     "metadata": {},
     "output_type": "execute_result"
    }
   ],
   "source": [
    "#Finding best parameters for our model via Grid Search Cross Validation\n",
    "from sklearn.tree import DecisionTreeClassifier\n",
    "\n",
    "dct = DecisionTreeClassifier()\n",
    "dt_param = {'criterion':['gini','entropy'],'max_depth':[4,8,12,15,20,30,40,50,70,90,120,150,180]}\n",
    "dt_random = GridSearchCV(dct, dt_param, cv=5)\n",
    "dt_parameters = dt_random.fit(X_train, y_train)\n",
    "dt_parameters.best_params_"
   ]
  },
  {
   "cell_type": "code",
   "execution_count": 25,
   "id": "a4723537",
   "metadata": {},
   "outputs": [
    {
     "name": "stdout",
     "output_type": "stream",
     "text": [
      "Decision tree Model Accuracy (Resampled):  76.62 %\n"
     ]
    }
   ],
   "source": [
    "#Fitting our train data to predict sentiment on our test data\n",
    "dtcModel = DecisionTreeClassifier(criterion= 'entropy',max_depth=150)\n",
    "dtc = dtcModel.fit(X_train, y_train)\n",
    "y_pred = dtcModel.predict(X_test)\n",
    "\n",
    "#Model Accuracy\n",
    "print(\"Decision tree Model Accuracy (Resampled): \" ,  round(accuracy_score(y_test,y_pred)*100,2),\"%\")"
   ]
  },
  {
   "cell_type": "code",
   "execution_count": 26,
   "id": "cd2299e4",
   "metadata": {},
   "outputs": [
    {
     "name": "stdout",
     "output_type": "stream",
     "text": [
      "Decision tree Model Accuracy (Original):  63.52 %\n"
     ]
    }
   ],
   "source": [
    "#Comparing it against original (non-oversampled) data \n",
    "\n",
    "Xtrain, Xtest, ytrain, ytest = train_test_split(vectorized_X,y,test_size = 0.10, random_state =26105111)\n",
    "dtc_org = dtcModel.fit(Xtrain, ytrain)\n",
    "y_pred_org = dtcModel.predict(Xtest)\n",
    "\n",
    "print(\"Decision tree Model Accuracy (Original): \" ,  round(accuracy_score(ytest,y_pred_org)*100,2),\"%\")"
   ]
  },
  {
   "cell_type": "markdown",
   "id": "9aaac45b",
   "metadata": {},
   "source": [
    "We can see that oversampling our imbalanced data  improves our model accuracy by  ~12%"
   ]
  },
  {
   "cell_type": "code",
   "execution_count": 27,
   "id": "5c0cfaf2",
   "metadata": {},
   "outputs": [],
   "source": [
    "#predict sentiment for all of tokenized text column and add it as column to the dataframe\n",
    "df['predicted_sentiment'] =  dtcModel.fit(vectorized_X, y).predict(vectorized_X)"
   ]
  },
  {
   "cell_type": "code",
   "execution_count": 28,
   "id": "bf373270",
   "metadata": {},
   "outputs": [
    {
     "name": "stdout",
     "output_type": "stream",
     "text": [
      "Top 5 words for: \n",
      "Sentiment 1:  [('would', 12), ('think', 10), ('fuck', 9), ('peopl', 8), ('want', 8)]\n",
      "Sentiment 2:  [('think', 35), ('driver', 31), (\"don't\", 29), ('want', 28), ('problem', 26)]\n",
      "Sentiment 3:  [('road', 163), ('via', 152), ('test', 151), ('see', 149), ('uber', 147)]\n",
      "Sentiment 4:  [('want', 69), ('wait', 62), ('cool', 58), ('driver', 58), ('would', 57)]\n",
      "Sentiment 5:  [('wait', 40), ('want', 32), ('love', 24), ('come', 21), ('cool', 18)]\n"
     ]
    }
   ],
   "source": [
    "##get top words for each sentiment \n",
    "\n",
    "mostFreqSent1 = Counter();\n",
    "mostFreqSent2 = Counter();\n",
    "mostFreqSent3 = Counter();\n",
    "mostFreqSent4 = Counter();\n",
    "mostFreqSent5 = Counter();\n",
    "\n",
    "for i,r in df.iterrows():\n",
    "    if r['predicted_sentiment']=='1':\n",
    "        for w in r['token_text']:\n",
    "            mostFreqSent1[w]+=1\n",
    "    if r['predicted_sentiment']=='2':\n",
    "        for w in r['token_text']:\n",
    "            mostFreqSent2[w]+=1\n",
    "    if r['predicted_sentiment']=='3':\n",
    "        for w in r['token_text']:\n",
    "            mostFreqSent3[w]+=1\n",
    "    if r['predicted_sentiment']=='4':\n",
    "        for w in r['token_text']:\n",
    "            mostFreqSent4[w]+=1\n",
    "    if r['predicted_sentiment']=='5':\n",
    "        for w in r['token_text']:\n",
    "            mostFreqSent5[w]+=1\n",
    "\n",
    "print(\"Top 5 words for: \")\n",
    "print(\"Sentiment 1: \", mostFreqSent1.most_common(5))\n",
    "print(\"Sentiment 2: \", mostFreqSent2.most_common(5))\n",
    "print(\"Sentiment 3: \", mostFreqSent3.most_common(5))\n",
    "print(\"Sentiment 4: \", mostFreqSent4.most_common(5))\n",
    "print(\"Sentiment 5: \", mostFreqSent5.most_common(5))"
   ]
  },
  {
   "cell_type": "markdown",
   "id": "82a04594",
   "metadata": {},
   "source": [
    "There are some common words like : think, would, want across all sentiments. These are common words used in most sentiments. They are not particulary stop words so was not removed in the text processing, but removing some of them may increase model accuracy"
   ]
  },
  {
   "cell_type": "markdown",
   "id": "ac022dff",
   "metadata": {},
   "source": [
    "# PART 4 - MODEL PERFORMANCE ACROSS SENTIMENT"
   ]
  },
  {
   "cell_type": "code",
   "execution_count": 29,
   "id": "33758405",
   "metadata": {},
   "outputs": [
    {
     "data": {
      "image/png": "[encoded data removed]",
      "text/plain": [
       "<Figure size 432x288 with 1 Axes>"
      ]
     },
     "metadata": {
      "needs_background": "light"
     },
     "output_type": "display_data"
    }
   ],
   "source": [
    "#Plotting confusion matrix to compare our predicted sentiment values against the actual sentiment values\n",
    "from sklearn.metrics import confusion_matrix\n",
    "dtc_matrix = confusion_matrix(y_test, y_pred)\n",
    "\n",
    "ax = sns.heatmap(dtc_matrix, square=True, annot=True, cmap='Reds', fmt='d', cbar=False)\n",
    "\n",
    "ax.set_xlabel('Predicted Values')\n",
    "ax.set_ylabel('Actual Values ');\n",
    "\n",
    "ax.xaxis.set_ticklabels(['1','2','3','4','5'])\n",
    "ax.yaxis.set_ticklabels(['1','2','3','4','5'])\n",
    "\n",
    "plt.show()"
   ]
  },
  {
   "cell_type": "code",
   "execution_count": 30,
   "id": "163acaa9",
   "metadata": {},
   "outputs": [
    {
     "name": "stdout",
     "output_type": "stream",
     "text": [
      "Prediciting accuracy:\n",
      "Sentiment 1 -  98.13 %\n",
      "Sentiment 2 -  55.15 %\n",
      "Sentiment 3 -  81.91 %\n",
      "Sentiment 4 -  55.2 %\n",
      "Sentiment 5 -  91.7 %\n"
     ]
    }
   ],
   "source": [
    "#The model accuracy in predicting each sentiment\n",
    "print(\"Prediciting accuracy:\")\n",
    "\n",
    "print(\"Sentiment 1 - \", round((dtc_matrix[0][0]/ dtc_matrix[0].sum())*100,2),\"%\")\n",
    "print(\"Sentiment 2 - \", round((dtc_matrix[1][1]/ dtc_matrix[1].sum())*100,2),\"%\")\n",
    "print(\"Sentiment 3 - \", round((dtc_matrix[2][2]/ dtc_matrix[2].sum())*100,2),\"%\")\n",
    "print(\"Sentiment 4 - \", round((dtc_matrix[3][3]/ dtc_matrix[3].sum())*100,2),\"%\")\n",
    "print(\"Sentiment 5 - \", round((dtc_matrix[4][4]/ dtc_matrix[4].sum())*100,2),\"%\")"
   ]
  },
  {
   "cell_type": "markdown",
   "id": "89043f43",
   "metadata": {},
   "source": [
    "The model performs well on extreme sentiments - 1(Very negative) & 5 (Very positive). \n",
    "It also performs well on neutral sentiments (3). However it seems to have problem predicting 2 (slightly negative) & 4 (slightly positive) sentiments."
   ]
  },
  {
   "cell_type": "markdown",
   "id": "7504c109",
   "metadata": {},
   "source": [
    "Ideas for improving model performance:\n",
    "- Adding more data, especially for for sentiments 2&4 can improve prediction accuracy for those 2 sentiments. Increasing data overall can improve overall accuracy as well\n",
    "- Feature selection: Selecting relevant features based on its importance can improve the model performance\n",
    "- The accuracy in predicting these sentiments can be improved with better processing of the dataset. For instance, using a more exhaustive stop word list\n",
    "- Using ensemble models like bagging & boosting can classify the data better giving us a better base level for improvement."
   ]
  }
 ],
 "metadata": {
  "kernelspec": {
   "display_name": "Python 3",
   "language": "python",
   "name": "python3"
  },
  "language_info": {
   "codemirror_mode": {
    "name": "ipython",
    "version": 3
   },
   "file_extension": ".py",
   "mimetype": "text/x-python",
   "name": "python",
   "nbconvert_exporter": "python",
   "pygments_lexer": "ipython3",
   "version": "3.8.8"
  }
 },
 "nbformat": 4,
 "nbformat_minor": 5
}
